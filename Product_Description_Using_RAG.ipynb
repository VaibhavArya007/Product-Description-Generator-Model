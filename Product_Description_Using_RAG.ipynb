{
  "cells": [
    {
      "cell_type": "markdown",
      "metadata": {
        "id": "view-in-github",
        "colab_type": "text"
      },
      "source": [
        "<a href=\"https://colab.research.google.com/github/VaibhavArya007/Product-Description-Generator-Model/blob/main/Product_Description_Using_RAG.ipynb\" target=\"_parent\"><img src=\"https://colab.research.google.com/assets/colab-badge.svg\" alt=\"Open In Colab\"/></a>"
      ]
    },
    {
      "cell_type": "code",
      "source": [
        "!pip install pandas langchain pinecone-client openai\n",
        "!pip install langchain-community\n",
        "!pip install -q -U torch datasets transformers tensorflow langchain playwright html2text sentence_transformers faiss-cpu\n",
        "!pip install -q accelerate==0.21.0 peft==0.4.0 bitsandbytes==0.40.2 trl==0.4.7\n",
        "!pip install -U langchain-community\n",
        "!pip -qqq install langchain-groq==0.1.3 --progress-bar off\n",
        "!pip install torch\n",
        "!pip install transformers==4.10.3\n",
        "!pip install sentence-transformers==2.1.0\n",
        "!pip install sentence-transformers\n",
        "!pip install sentence-transformers faiss-cpu langchain llama-index pandas\n",
        "!pip install sentence-transformers faiss-cpu langchain llama-index pandas torch transformers\n",
        "!pip uninstall torch torchvision torchaudio -y\n",
        "!pip install torch torchvision torchaudio\n",
        "\n"
      ],
      "metadata": {
        "id": "IvDbPT817U4K"
      },
      "execution_count": null,
      "outputs": []
    },
    {
      "cell_type": "code",
      "source": [
        "from google.colab import drive\n",
        "drive.mount('/content/drive')"
      ],
      "metadata": {
        "id": "pj2o3YAz7Tpp",
        "outputId": "49d86b9d-d301-4916-a870-2bcaf52bec67",
        "colab": {
          "base_uri": "https://localhost:8080/"
        }
      },
      "execution_count": null,
      "outputs": [
        {
          "output_type": "stream",
          "name": "stdout",
          "text": [
            "Drive already mounted at /content/drive; to attempt to forcibly remount, call drive.mount(\"/content/drive\", force_remount=True).\n"
          ]
        }
      ]
    },
    {
      "cell_type": "code",
      "source": [
        "file1='/content/drive/MyDrive/new2.json'\n",
        "file2= '/content/drive/MyDrive/delete.json'"
      ],
      "metadata": {
        "id": "nAi7Lp2M-KNb"
      },
      "execution_count": 1,
      "outputs": []
    },
    {
      "cell_type": "code",
      "source": [
        "import pandas as pd\n",
        "\n",
        "file_path =file1\n",
        "\n",
        "temp1 = pd.read_json(file_path, lines=True)"
      ],
      "metadata": {
        "id": "GRl9cBrO7TtJ"
      },
      "execution_count": 2,
      "outputs": []
    },
    {
      "cell_type": "code",
      "source": [
        "import pandas as pd\n",
        "\n",
        "file_path = file2\n",
        "\n",
        "temp2 = pd.read_json(file_path, lines=True)"
      ],
      "metadata": {
        "id": "-8An1tjZRDzX"
      },
      "execution_count": 3,
      "outputs": []
    },
    {
      "cell_type": "code",
      "source": [
        "df = pd.concat([temp1, temp2], ignore_index=True)"
      ],
      "metadata": {
        "id": "nU0BvRmkQ7Dh"
      },
      "execution_count": 4,
      "outputs": []
    },
    {
      "cell_type": "code",
      "source": [
        "df.drop(columns=['question_id', 'asin'],inplace=True)\n",
        "df_filtered = df[df['question_type'] != 'WH']"
      ],
      "metadata": {
        "id": "Yd2qMZ-c7T1Z"
      },
      "execution_count": 5,
      "outputs": []
    },
    {
      "cell_type": "code",
      "source": [
        "df_filtered['points']=df_filtered['bullet_point1']+df_filtered['bullet_point2']+df_filtered['bullet_point3']+df_filtered['bullet_point4']+df_filtered['bullet_point5']"
      ],
      "metadata": {
        "id": "gC6jQiaW7UQj"
      },
      "execution_count": null,
      "outputs": []
    },
    {
      "cell_type": "code",
      "source": [
        "df_filtered.drop(columns=['bullet_point1', 'bullet_point2', 'bullet_point3', 'bullet_point4', 'bullet_point5'],inplace=True)"
      ],
      "metadata": {
        "id": "2ALiCsTR7UUK"
      },
      "execution_count": null,
      "outputs": []
    },
    {
      "cell_type": "code",
      "source": [
        "def merge_answers(answer_list):\n",
        "    return ' '.join(d['answer_text'] for d in answer_list)\n",
        "\n",
        "df_filtered['merged_answer'] = df_filtered['answers'].apply(merge_answers)"
      ],
      "metadata": {
        "id": "szXOXwIE7UdO"
      },
      "execution_count": null,
      "outputs": []
    },
    {
      "cell_type": "code",
      "source": [
        "df_filtered.drop(columns=['answers'],inplace=True)"
      ],
      "metadata": {
        "id": "fb7o_s-d7Ug9"
      },
      "execution_count": null,
      "outputs": []
    },
    {
      "cell_type": "code",
      "source": [
        "df_filtered['all_detail']=df_filtered['product_description']+df_filtered['brand_name']+df_filtered['item_name']+df_filtered['points']"
      ],
      "metadata": {
        "id": "A0dcYsuy8Ak2"
      },
      "execution_count": null,
      "outputs": []
    },
    {
      "cell_type": "code",
      "source": [
        "df_filtered.drop(columns=['product_description', 'brand_name', 'item_name', 'points', 'question_type'],inplace=True)"
      ],
      "metadata": {
        "id": "ampOXDd77Ukn"
      },
      "execution_count": null,
      "outputs": []
    },
    {
      "cell_type": "code",
      "source": [
        "df_filtered['final'] = df_filtered['all_detail'] + \" \" + df_filtered['merged_answer']"
      ],
      "metadata": {
        "id": "aKcSMZfESVDc"
      },
      "execution_count": null,
      "outputs": []
    },
    {
      "cell_type": "code",
      "source": [
        "df_filtered.drop(columns=['all_detail', 'merged_answer'],inplace=True)"
      ],
      "metadata": {
        "id": "MXSSzRnESl84"
      },
      "execution_count": null,
      "outputs": []
    },
    {
      "cell_type": "code",
      "source": [
        "df_final = pd.DataFrame(df_filtered['final'])"
      ],
      "metadata": {
        "id": "2PTcd248Spla"
      },
      "execution_count": 14,
      "outputs": []
    },
    {
      "cell_type": "code",
      "source": [
        "category_counts = df_filtered['answer_aggregated'].value_counts().sum()\n",
        "category_counts_ = df_filtered['answer_aggregated'].value_counts()\n",
        "print(category_counts)"
      ],
      "metadata": {
        "id": "dXxSgt_TQY4u"
      },
      "execution_count": null,
      "outputs": []
    },
    {
      "cell_type": "code",
      "source": [
        "category_counts_ = df_filtered['answer_aggregated'].value_counts()\n",
        "print(category_counts_)"
      ],
      "metadata": {
        "id": "xuLni2S4RG-e"
      },
      "execution_count": null,
      "outputs": []
    },
    {
      "cell_type": "code",
      "source": [
        "neutral = 32959/72161\n",
        "yes= 27130/72161\n",
        "no= 1-(neutral+yes)\n",
        "print (neutral, yes, no)"
      ],
      "metadata": {
        "id": "s0p4iNqPRL3P"
      },
      "execution_count": null,
      "outputs": []
    },
    {
      "source": [
        "# @title answer_aggregated\n",
        "\n",
        "from matplotlib import pyplot as plt\n",
        "import seaborn as sns\n",
        "df_filtered.groupby('answer_aggregated').size().plot(kind='barh', color=sns.palettes.mpl_palette('Dark2'))\n",
        "plt.gca().spines[['top', 'right',]].set_visible(False)"
      ],
      "cell_type": "code",
      "execution_count": 18,
      "outputs": [
        {
          "output_type": "display_data",
          "data": {
            "text/plain": [
              "<Figure size 640x480 with 1 Axes>"
            ],
            "image/png": "[encoded data removed]"
          },
          "metadata": {}
        }
      ],
      "metadata": {
        "cellView": "form",
        "colab": {
          "base_uri": "https://localhost:8080/",
          "height": 430
        },
        "id": "PAhtoyMZS1hQ",
        "outputId": "2e6730b5-6e19-4b9e-b588-42a73dbd5546"
      }
    },
    {
      "cell_type": "code",
      "source": [
        "import os\n",
        "import torch\n",
        "# from transformers import (\n",
        "#     AutoModelForCausalLM,\n",
        "#     AutoTokenizer,\n",
        "#     # BitsAndBytesConfig,\n",
        "#     pipeline\n",
        "# )\n",
        "\n",
        "from langchain.text_splitter import CharacterTextSplitter\n",
        "from langchain.document_transformers import Html2TextTransformer\n",
        "from langchain.document_loaders import AsyncChromiumLoader\n",
        "\n",
        "from langchain.embeddings.huggingface import HuggingFaceEmbeddings\n",
        "from langchain.vectorstores import FAISS\n",
        "\n",
        "from langchain.prompts import PromptTemplate\n",
        "from langchain.schema.runnable import RunnablePassthrough\n",
        "from langchain.llms import HuggingFacePipeline\n",
        "from langchain.chains import LLMChain"
      ],
      "metadata": {
        "id": "-uQPKxSHTgNz"
      },
      "execution_count": 19,
      "outputs": []
    },
    {
      "cell_type": "code",
      "source": [
        "df_final_sampled = df_final.sample(250)"
      ],
      "metadata": {
        "id": "uhyKaLXfa1h1"
      },
      "execution_count": 20,
      "outputs": []
    },
    {
      "cell_type": "code",
      "source": [
        "import os\n",
        "import re\n",
        "import requests\n",
        "from google.colab import userdata\n",
        "from langchain_core.prompts import ChatPromptTemplate\n",
        "from langchain_groq import ChatGroq\n",
        "\n",
        "def format_response (response: str) -> str:\n",
        "    entries = re.split(r\" (?<=]), (?=\\[)\", response)\n",
        "    return [entry.strip(\"[]\") for entry in entries]\n",
        "\n",
        "os.environ [\"GROQ_API_KEY\"] = \"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\""
      ],
      "metadata": {
        "id": "8i50Tx0_ThYk"
      },
      "execution_count": 21,
      "outputs": []
    },
    {
      "cell_type": "code",
      "source": [
        "mistral_llm = ChatGroq(temperature = 0.2,model_name=\"llama3-8b-8192\")"
      ],
      "metadata": {
        "id": "54-9J98jThVO"
      },
      "execution_count": 22,
      "outputs": []
    },
    {
      "cell_type": "code",
      "source": [
        "alldata=\" \"\n",
        "for index, row in df_final_sampled.iterrows():\n",
        "  alldata = alldata + \" \" +  row['final']"
      ],
      "metadata": {
        "id": "O5XB8rtoCA7Z"
      },
      "execution_count": 23,
      "outputs": []
    },
    {
      "cell_type": "code",
      "source": [
        "from langchain.text_splitter import CharacterTextSplitter\n",
        "\n",
        "def split_text_with_overlap(text, chunk_size=200, overlap=10):\n",
        "    chunks = []\n",
        "    start = 0\n",
        "    while start < len(text):\n",
        "        end = start + chunk_size\n",
        "        chunk = text[start:end]\n",
        "        chunks.append(chunk)\n",
        "        start += (chunk_size - overlap)\n",
        "    return chunks\n",
        "\n",
        "# Example usage\n",
        "  # Replace with your actual string\n",
        "chunks = split_text_with_overlap(alldata, chunk_size=200, overlap=10)\n",
        "\n",
        "# Printing the chunks\n",
        "for i, chunk in enumerate(chunks):\n",
        "    print(f\"Chunk {i+1}:\\n{chunk}\\n\")"
      ],
      "metadata": {
        "id": "ni8apcJ6Fyeu"
      },
      "execution_count": null,
      "outputs": []
    },
    {
      "cell_type": "code",
      "source": [
        "from transformers import AutoTokenizer, AutoModel\n",
        "import torch\n",
        "import numpy as np\n",
        "import faiss"
      ],
      "metadata": {
        "id": "R0l2JOcsaSZi"
      },
      "execution_count": 25,
      "outputs": []
    },
    {
      "cell_type": "code",
      "source": [
        "class HuggingFaceEmbeddings:\n",
        "    def __init__(self, model_name):\n",
        "        self.tokenizer = AutoTokenizer.from_pretrained(model_name)\n",
        "        self.model = AutoModel.from_pretrained(model_name)\n",
        "\n",
        "    def encode(self, texts):\n",
        "        inputs = self.tokenizer(texts, return_tensors='pt', padding=True, truncation=True)\n",
        "        with torch.no_grad():\n",
        "            outputs = self.model(**inputs)\n",
        "        return outputs.last_hidden_state.mean(dim=1).numpy()\n",
        "\n",
        "# Instantiate the embeddings model\n",
        "model_name = 'sentence-transformers/all-mpnet-base-v2'\n",
        "hf_embeddings = HuggingFaceEmbeddings(model_name)\n",
        "\n",
        "# Encode chunked documents\n",
        "embeddings = hf_embeddings.encode([chunk for chunk in chunks])\n",
        "\n",
        "# Create FAISS index\n",
        "dimension = embeddings.shape[1]\n",
        "index = faiss.IndexFlatL2(dimension)\n",
        "index.add(embeddings)"
      ],
      "metadata": {
        "id": "vi3DA3JyaBX-"
      },
      "execution_count": null,
      "outputs": []
    },
    {
      "cell_type": "code",
      "source": [
        "from langchain.docstore.document import Document"
      ],
      "metadata": {
        "id": "NIjCzDEjKOmt"
      },
      "execution_count": 27,
      "outputs": []
    },
    {
      "cell_type": "code",
      "source": [
        "class HuggingFaceEmbeddings:\n",
        "    def __init__(self, model_name):\n",
        "        self.tokenizer = AutoTokenizer.from_pretrained(model_name)\n",
        "        self.model = AutoModel.from_pretrained(model_name)\n",
        "\n",
        "    def encode(self, texts):\n",
        "        inputs = self.tokenizer(texts, return_tensors='pt', padding=True, truncation=True)\n",
        "        with torch.no_grad():\n",
        "            outputs = self.model(**inputs)\n",
        "        return outputs.last_hidden_state.mean(dim=1).numpy()\n",
        "\n",
        "    def embed_documents(self, documents):\n",
        "        texts = [doc for doc in documents]\n",
        "        return self.encode(texts)\n",
        "\n",
        "    def embed_query(self, query):\n",
        "        inputs = self.tokenizer(query, return_tensors='pt')\n",
        "        outputs = self.model(**inputs)\n",
        "        return outputs.last_hidden_state.mean(dim=1).detach().numpy()\n",
        "\n",
        "\n"
      ],
      "metadata": {
        "id": "fpQrlkRBLUrN"
      },
      "execution_count": 28,
      "outputs": []
    },
    {
      "cell_type": "code",
      "source": [
        "model_name = 'sentence-transformers/all-mpnet-base-v2'\n",
        "hf_embeddings = HuggingFaceEmbeddings(model_name)"
      ],
      "metadata": {
        "id": "lwIwuJfrLW3U"
      },
      "execution_count": 29,
      "outputs": []
    },
    {
      "cell_type": "code",
      "source": [
        "def retrieve(query, k=5):\n",
        "    query_embedding = hf_embeddings.encode([query])\n",
        "    distances, indices = index.search(query_embedding, 5)\n",
        "    return [chunks[i] for i in indices[0]]\n",
        "\n",
        "# Example retrieval\n",
        "query = \"How much is the battery life of laptop\"\n",
        "retrieved_docs = retrieve(query)\n",
        "for doc in retrieved_docs:\n",
        "    print(doc)\n",
        "documents = [Document(page_content=chunk) for chunk in retrieved_docs]\n",
        "\n",
        "db = FAISS.from_documents(documents, hf_embeddings)\n",
        "retriever = db.as_retriever()"
      ],
      "metadata": {
        "id": "HM7geundJLKn"
      },
      "execution_count": null,
      "outputs": []
    },
    {
      "cell_type": "code",
      "source": [
        "def retrieve_chunks(query, index, hf_embeddings, documents, top_k=5):\n",
        "    # Embed the query\n",
        "    query_embedding = hf_embeddings.embed_query(query)\n",
        "\n",
        "    # Search FAISS index\n",
        "    distances, indices = index.search(query_embedding, top_k)\n",
        "\n",
        "    # Check the lengths of indices and documents\n",
        "    num_documents = len(documents)\n",
        "    retrieved_chunks = []\n",
        "    for idx in indices[0]:\n",
        "        if idx < num_documents:\n",
        "            retrieved_chunks.append(documents[idx].page_content)\n",
        "        else:\n",
        "            print(f\"Index {idx} is out of bounds for documents list of length {num_documents}\")\n",
        "\n",
        "    return retrieved_chunks\n",
        "\n",
        "# Example query\n",
        "query = \"what is the battery life of laptop\"\n",
        "retrieved_chunks = retrieve_chunks(query, index, hf_embeddings, documents)\n",
        "\n",
        "# Print retrieved chunks\n",
        "for i, chunk in enumerate(retrieved_chunks):\n",
        "    print(f\"Chunk {i+1}: {chunk}\")\n",
        "\n"
      ],
      "metadata": {
        "id": "9fYfwvlFM1WM"
      },
      "execution_count": null,
      "outputs": []
    },
    {
      "cell_type": "code",
      "source": [
        "retriever = db.as_retriever()"
      ],
      "metadata": {
        "id": "Pz0Mp7avKTPx"
      },
      "execution_count": 32,
      "outputs": []
    },
    {
      "cell_type": "code",
      "source": [
        "from langchain import PromptTemplate, LLMChain\n",
        "from langchain_core.runnables import RunnablePassthrough\n",
        "# Define the prompt template\n",
        "prompt_template = \"\"\"\n",
        "note while returning final answer please print little bit of context from docs that you have used to generate answer\n",
        "### [INST] Instruction: Answer the question based on your docs knowledge. Here is context to help:\n",
        "\n",
        "{context}\n",
        "\n",
        "### QUESTION:\n",
        "{question} [/INST]\n",
        "\"\"\"\n",
        "\n",
        "# Create prompt from prompt template\n",
        "prompt = PromptTemplate(\n",
        "    input_variables=[\"context\", \"question\"],\n",
        "    template=prompt_template,\n",
        ")\n",
        "\n",
        "# Assume mistral_llm is defined elsewhere, and it's the language model you are using\n",
        "# Create llm chain\n",
        "llm_chain = LLMChain(llm=mistral_llm, prompt=prompt)\n",
        "\n",
        "# Define a retriever function that retrieves context given a query\n",
        "def retriever(query):\n",
        "    # Example implementation using the previously defined retrieve_chunks function\n",
        "    # Ensure index, hf_embeddings, and documents are properly defined\n",
        "    return retrieve_chunks(query, index, hf_embeddings, documents)\n",
        "\n",
        "# Create RAG chain\n",
        "rag_chain = (\n",
        "    {\"context\": retriever, \"question\": RunnablePassthrough()}\n",
        "    | llm_chain\n",
        ")\n",
        "\n",
        "# Invoke the RAG chain\n",
        "result = rag_chain.invoke(\"What is the best laptop\")\n",
        "\n",
        "# Print the result\n",
        "print(result)\n"
      ],
      "metadata": {
        "id": "2hQ3vjDiAauQ"
      },
      "execution_count": null,
      "outputs": []
    },
    {
      "cell_type": "code",
      "source": [
        "result['context']"
      ],
      "metadata": {
        "id": "v-6TfZcIThL3",
        "colab": {
          "base_uri": "https://localhost:8080/"
        },
        "outputId": "776878c6-e93e-4cc5-b814-426b438a1278"
      },
      "execution_count": 34,
      "outputs": [
        {
          "output_type": "execute_result",
          "data": {
            "text/plain": [
              "[]"
            ]
          },
          "metadata": {},
          "execution_count": 34
        }
      ]
    },
    {
      "cell_type": "code",
      "source": [
        "text = result['text']\n",
        "\n",
        "# Add line breaks to format the text as a paragraph\n",
        "formatted_text = text.replace('\\n', ' ')  # Replace existing line breaks with spaces\n",
        "formatted_text = formatted_text.replace('. ', '.\\n\\n')  # Add double line breaks after periods\n",
        "\n",
        "# Print the formatted text\n",
        "print(formatted_text)"
      ],
      "metadata": {
        "id": "zH81-G9iThJu",
        "colab": {
          "base_uri": "https://localhost:8080/"
        },
        "outputId": "60aacd7e-eab4-4a2f-f9e4-7a524490730c"
      },
      "execution_count": 35,
      "outputs": [
        {
          "output_type": "stream",
          "name": "stdout",
          "text": [
            "Based on my documentation knowledge, the \"best\" laptop is subjective and depends on various factors such as budget, usage, and personal preferences.\n",
            "\n",
            "However, here are some top-rated laptops across different categories:  **For general use:**  * Dell XPS 13: A popular choice for its sleek design, long battery life, and powerful performance.\n",
            "\n",
            "(Source: CNET) * Apple MacBook Air: A great option for those invested in the Apple ecosystem, offering a seamless user experience and impressive battery life.\n",
            "\n",
            "(Source: The Verge)  **For gaming:**  * Razer Blade 15: A top-notch gaming laptop with a powerful NVIDIA GeForce GPU, fast processor, and customizable backlighting.\n",
            "\n",
            "(Source: PCMag) * MSI GS65 Stealth: A slim and lightweight gaming laptop with a powerful Intel Core i9 processor and NVIDIA GeForce GTX 1070 graphics.\n",
            "\n",
            "(Source: Laptop Mag)  **For budget-conscious buyers:**  * Acer Aspire 3: A budget-friendly laptop with a decent processor, ample storage, and a long-lasting battery.\n",
            "\n",
            "(Source: TechRadar) * Lenovo IdeaPad 330S: A slim and lightweight laptop with a powerful processor, good battery life, and a affordable price tag.\n",
            "\n",
            "(Source: Digital Trends)  Please note that these are just a few examples, and there are many other great laptops available in the market.\n",
            "\n",
            "It's essential to research and compare different options based on your specific needs and budget.\n",
            "\n",
            " Context from docs:  * CNET: \"The best laptops for 2022\" (https://www.cnet.com/news/best-laptops-2022/) * The Verge: \"The best laptops for 2022\" (https://www.theverge.com/2022/1/11/22874151/best-laptops-2022-reviews) * PCMag: \"The Best Gaming Laptops for 2022\" (https://www.pcmag.com/picks/the-best-gaming-laptops) * Laptop Mag: \"The best gaming laptops of 2022\" (https://www.laptopmag.com/best-gaming-laptops) * TechRadar: \"The best budget laptops of 2022\" (https://www.techradar.com/best/best-budget-laptops) * Digital Trends: \"The best budget laptops of 2022\" (https://www.digitaltrends.com/best-buys/best-budget-laptops/)\n"
          ]
        }
      ]
    }
  ],
  "metadata": {
    "colab": {
      "provenance": [],
      "gpuType": "T4",
      "include_colab_link": true
    },
    "kernelspec": {
      "display_name": "Python 3",
      "name": "python3"
    },
    "accelerator": "GPU"
  },
  "nbformat": 4,
  "nbformat_minor": 0
}